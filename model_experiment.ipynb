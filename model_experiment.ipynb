{
 "cells": [
  {
   "cell_type": "code",
   "execution_count": 2,
   "metadata": {},
   "outputs": [],
   "source": [
    "from sklearn.model_selection import train_test_split, cross_val_score, KFold\n",
    "import numpy as np\n",
    "import pandas as pd\n",
    "from joblib import dump, load\n",
    "from sklearn.metrics import classification_report\n",
    "from sklearn.ensemble import RandomForestClassifier\n",
    "from sklearn.neural_network import MLPClassifier"
   ]
  },
  {
   "cell_type": "code",
   "execution_count": 8,
   "metadata": {},
   "outputs": [
    {
     "name": "stdout",
     "output_type": "stream",
     "text": [
      "active 1151\n",
      "standing 7937\n",
      "walk 3809\n",
      "sitting 35752\n",
      "lying 56611\n",
      "groom 11772\n",
      "scratching 484\n",
      "eat 6862\n",
      "littering 560\n"
     ]
    },
    {
     "data": {
      "text/plain": [
       "Index(['Timestamp', 'X_Mean', 'X_Min', 'X_Max', 'X_sd', 'X_Skew', 'X_Kurt',\n",
       "       'Y_Mean', 'Y_Min', 'Y_Max', 'Y_sd', 'Y_Skew', 'Y_Kurt', 'Z_Mean',\n",
       "       'Z_Min', 'Z_Max', 'Z_sd', 'Z_Skew', 'Z_Kurt', 'VM_Mean', 'VM_Min',\n",
       "       'VM_Max', 'VM_sd', 'VM_Skew', 'VM_Kurt', 'Cor_XY', 'Cor_XZ', 'Cor_YZ',\n",
       "       'Class'],\n",
       "      dtype='object')"
      ]
     },
     "metadata": {},
     "output_type": "display_data"
    },
    {
     "data": {
      "text/plain": [
       "14293"
      ]
     },
     "metadata": {},
     "output_type": "display_data"
    },
    {
     "name": "stdout",
     "output_type": "stream",
     "text": [
      "active 3809\n",
      "rest 5000\n",
      "eat 2500\n",
      "groom 2984\n"
     ]
    }
   ],
   "source": [
    "dataset  = pd.read_csv(\"./data/labeled_dataset1.csv\")\n",
    "\n",
    "for column in dataset[\"Class\"].unique():\n",
    "    print(column, len(dataset[dataset[\"Class\"] == column]))\n",
    "\n",
    "#walk    \n",
    "walk_set = dataset[dataset[\"Class\"] == \"walk\"]\n",
    "#rest\n",
    "stand_set =  dataset[dataset[\"Class\"] == \"standing\"].sample(n=7000)\n",
    "sitting_set =  dataset[dataset[\"Class\"] == \"sitting\"].sample(n=7000)\n",
    "lying_set =  dataset[dataset[\"Class\"] == \"lying\"].sample(n=7000)\n",
    "rest_set = pd.concat([stand_set, sitting_set, lying_set], axis=0, ignore_index=True).sample(n=5000)\n",
    "#eat and drink\n",
    "eat_set = dataset[dataset[\"Class\"] == \"eat\"].sample(n=4000)\n",
    "#groom\n",
    "scratching_set = dataset[dataset[\"Class\"] == \"scratching\"]\n",
    "groom_set = dataset[dataset[\"Class\"] == \"groom\"].sample(n=4000)\n",
    "#littering\n",
    "littering_set = dataset[dataset[\"Class\"] == \"littering\"]\n",
    "\n",
    "balanced_dataset = pd.concat([walk_set, rest_set, eat_set, scratching_set, groom_set], axis=0, ignore_index=True)\n",
    "balanced_dataset.loc[balanced_dataset['Class'].isin(['sitting', 'standing', 'lying']), 'Class'] = \"rest\"\n",
    "balanced_dataset.loc[balanced_dataset['Class'].isin(['scratching']), 'Class'] = \"groom\"\n",
    "balanced_dataset.loc[balanced_dataset['Class'].isin(['walk']), 'Class'] = \"active\"\n",
    "# balanced_dataset.loc[balanced_dataset['Class'].isin(['eat', 'groom']), 'Class'] = \"maintenance\"\n",
    "# balanced_dataset = balanced_dataset[[\"X_Mean\", \"Y_Mean\", \"Z_Mean\", \"X_sd\", 'Y_sd', 'Z_sd', 'X_Min', 'X_Max', 'Y_Min', 'Y_Max', 'Z_Min', 'Z_Max', \"Class\"]]\n",
    "balanced_dataset.drop(columns=['X_Sum', 'Y_Sum', 'Z_Sum', 'VM_Sum', 'ODBA15_Mean', 'ODBA30_Mean', 'ODBA45_Mean', 'ODBA60_Mean', \"ODBA90_Mean\",\n",
    "                            # 'X_Mean','X_Min','X_Max', 'Y_Mean','Y_Min','Y_Max', 'Z_Mean','Z_Min','Z_Max', 'VM_Mean', 'VM_Min', 'VM_Max'\n",
    "                            ], inplace=True)\n",
    "display(balanced_dataset.columns, len(balanced_dataset))\n",
    "for column in balanced_dataset[\"Class\"].unique():\n",
    "    print(column, len(balanced_dataset[balanced_dataset[\"Class\"] == column]))\n"
   ]
  },
  {
   "cell_type": "markdown",
   "metadata": {},
   "source": [
    "**random forest**"
   ]
  },
  {
   "cell_type": "code",
   "execution_count": 6,
   "metadata": {},
   "outputs": [
    {
     "data": {
      "text/plain": [
       "['./RF_model.model']"
      ]
     },
     "execution_count": 6,
     "metadata": {},
     "output_type": "execute_result"
    }
   ],
   "source": [
    "X = balanced_dataset.iloc[:,1:-1]\n",
    "y = balanced_dataset[\"Class\"]  \n",
    "X_train, X_test, y_train, y_test = train_test_split(X, y, test_size=0.1, random_state=42)\n",
    "BA_RF_model = RandomForestClassifier()\n",
    "BA_RF_model.fit(X_train, y_train)\n",
    "dump(BA_RF_model, \"./RF_model.model\")"
   ]
  },
  {
   "cell_type": "code",
   "execution_count": 48,
   "metadata": {},
   "outputs": [
    {
     "name": "stdout",
     "output_type": "stream",
     "text": [
      "              precision    recall  f1-score   support\n",
      "\n",
      "      active       0.77      0.53      0.63       386\n",
      " maintenance       0.85      0.94      0.89      1410\n",
      "        rest       0.81      0.77      0.79       520\n",
      "\n",
      "    accuracy                           0.83      2316\n",
      "   macro avg       0.81      0.75      0.77      2316\n",
      "weighted avg       0.83      0.83      0.83      2316\n",
      "\n"
     ]
    }
   ],
   "source": [
    "y_pred = BA_RF_model.predict(X_test)\n",
    "print(classification_report(y_test, y_pred))"
   ]
  },
  {
   "cell_type": "markdown",
   "metadata": {},
   "source": [
    "**neuron netwrok**"
   ]
  },
  {
   "cell_type": "code",
   "execution_count": 56,
   "metadata": {},
   "outputs": [
    {
     "data": {
      "text/plain": [
       "['./nn_model.model']"
      ]
     },
     "execution_count": 56,
     "metadata": {},
     "output_type": "execute_result"
    }
   ],
   "source": [
    "X = balanced_dataset.iloc[:,1:-1]\n",
    "y = balanced_dataset[\"Class\"]\n",
    "X_train, X_test, y_train, y_test = train_test_split(X, y, test_size=0.2, random_state=42)\n",
    "BA_nn_model = MLPClassifier(max_iter=400)\n",
    "BA_nn_model.fit(X_train, y_train)\n",
    "dump(BA_nn_model, \"./nn_model.model\")"
   ]
  },
  {
   "cell_type": "code",
   "execution_count": 59,
   "metadata": {},
   "outputs": [
    {
     "name": "stdout",
     "output_type": "stream",
     "text": [
      "              precision    recall  f1-score   support\n",
      "\n",
      "      active       0.84      0.61      0.70       377\n",
      " maintenance       0.76      0.95      0.85       645\n",
      "        rest       0.87      0.78      0.82       508\n",
      "\n",
      "    accuracy                           0.81      1530\n",
      "   macro avg       0.82      0.78      0.79      1530\n",
      "weighted avg       0.82      0.81      0.80      1530\n",
      "\n"
     ]
    }
   ],
   "source": [
    "y_pred = BA_nn_model.predict(X_test)\n",
    "print(classification_report(y_test, y_pred))"
   ]
  },
  {
   "cell_type": "markdown",
   "metadata": {},
   "source": [
    "**check data**"
   ]
  },
  {
   "cell_type": "code",
   "execution_count": 5,
   "metadata": {},
   "outputs": [
    {
     "name": "stdout",
     "output_type": "stream",
     "text": [
      "              precision    recall  f1-score   support\n",
      "\n",
      "      active       0.00      0.00      0.00         0\n",
      " maintenance       1.00      0.84      0.91        25\n",
      "\n",
      "    accuracy                           0.84        25\n",
      "   macro avg       0.50      0.42      0.46        25\n",
      "weighted avg       1.00      0.84      0.91        25\n",
      "\n"
     ]
    },
    {
     "name": "stderr",
     "output_type": "stream",
     "text": [
      "d:\\anaconda\\envs\\cat-collar\\lib\\site-packages\\sklearn\\metrics\\_classification.py:1509: UndefinedMetricWarning: Recall is ill-defined and being set to 0.0 in labels with no true samples. Use `zero_division` parameter to control this behavior.\n",
      "  _warn_prf(average, modifier, f\"{metric.capitalize()} is\", len(result))\n",
      "d:\\anaconda\\envs\\cat-collar\\lib\\site-packages\\sklearn\\metrics\\_classification.py:1509: UndefinedMetricWarning: Recall is ill-defined and being set to 0.0 in labels with no true samples. Use `zero_division` parameter to control this behavior.\n",
      "  _warn_prf(average, modifier, f\"{metric.capitalize()} is\", len(result))\n",
      "d:\\anaconda\\envs\\cat-collar\\lib\\site-packages\\sklearn\\metrics\\_classification.py:1509: UndefinedMetricWarning: Recall is ill-defined and being set to 0.0 in labels with no true samples. Use `zero_division` parameter to control this behavior.\n",
      "  _warn_prf(average, modifier, f\"{metric.capitalize()} is\", len(result))\n"
     ]
    }
   ],
   "source": [
    "model:RandomForestClassifier = load(\"./RF_model.model\")\n",
    "\n",
    "valid = pd.read_csv(\"./data/valid.csv\")\n",
    "valid.loc[valid['Class'].isin(['drink', 'eat']), 'Class'] = \"eat\"\n",
    "valid.loc[valid['Class'].isin(['sleep', 'rest']), 'Class'] = \"rest\"\n",
    "valid.loc[valid['Class'].isin(['walk']), 'Class'] = \"active\"\n",
    "# valid.loc[valid['Class'].isin(['eat','groom']), 'Class'] = \"maintenance\"\n",
    "\n",
    "valid_X = valid.iloc[:,0:-1]\n",
    "valid_y = valid[\"Class\"]  \n",
    "pred_y = model.predict(valid_X)\n",
    "print(classification_report(valid_y, pred_y))"
   ]
  },
  {
   "cell_type": "code",
   "execution_count": 7,
   "metadata": {},
   "outputs": [
    {
     "data": {
      "image/png": "[encoded data removed]",
      "text/plain": [
       "<Figure size 2500x500 with 1 Axes>"
      ]
     },
     "metadata": {},
     "output_type": "display_data"
    }
   ],
   "source": [
    "import matplotlib.pyplot as plt\n",
    "\n",
    "# Plotting\n",
    "plt.figure(figsize=(25, 5))\n",
    "plt.scatter(range(len(valid_y)), valid_y, label='Actual', marker='o')\n",
    "plt.scatter(range(len(pred_y)), pred_y, label='Predicted', marker='x')\n",
    "plt.title('Actual vs Predicted Values')\n",
    "plt.xlabel('Sample Index')\n",
    "plt.ylabel('Value')\n",
    "plt.legend()\n",
    "plt.show()"
   ]
  }
 ],
 "metadata": {
  "kernelspec": {
   "display_name": "Python 3.9.18 ('cat-collar')",
   "language": "python",
   "name": "python3"
  },
  "language_info": {
   "codemirror_mode": {
    "name": "ipython",
    "version": 3
   },
   "file_extension": ".py",
   "mimetype": "text/x-python",
   "name": "python",
   "nbconvert_exporter": "python",
   "pygments_lexer": "ipython3",
   "version": "3.9.18"
  },
  "orig_nbformat": 4,
  "vscode": {
   "interpreter": {
    "hash": "af158ff906e323b4570821a2ae4629801d1512ac32a4cfa3f3f7589e8cf95bd2"
   }
  }
 },
 "nbformat": 4,
 "nbformat_minor": 2
}
